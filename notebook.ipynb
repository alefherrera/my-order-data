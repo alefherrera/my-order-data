{
 "cells": [
  {
   "cell_type": "code",
   "execution_count": 1,
   "metadata": {},
   "outputs": [],
   "source": [
    "import pandas as pd\n",
    "\n",
    "import numpy as np\n",
    "\n",
    "import matplotlib.pyplot as plt\n",
    "plt.close('all')"
   ]
  },
  {
   "cell_type": "code",
   "execution_count": 4,
   "metadata": {},
   "outputs": [
    {
     "data": {
      "text/html": [
       "<div>\n",
       "<style scoped>\n",
       "    .dataframe tbody tr th:only-of-type {\n",
       "        vertical-align: middle;\n",
       "    }\n",
       "\n",
       "    .dataframe tbody tr th {\n",
       "        vertical-align: top;\n",
       "    }\n",
       "\n",
       "    .dataframe thead th {\n",
       "        text-align: right;\n",
       "    }\n",
       "</style>\n",
       "<table border=\"1\" class=\"dataframe\">\n",
       "  <thead>\n",
       "    <tr style=\"text-align: right;\">\n",
       "      <th></th>\n",
       "      <th>time</th>\n",
       "      <th>age</th>\n",
       "      <th>education</th>\n",
       "      <th>area</th>\n",
       "      <th>app_use</th>\n",
       "      <th>device</th>\n",
       "      <th>first_look</th>\n",
       "      <th>easy_information</th>\n",
       "      <th>comprehensible</th>\n",
       "      <th>colors</th>\n",
       "      <th>font</th>\n",
       "      <th>choices</th>\n",
       "      <th>navigation</th>\n",
       "      <th>order_navigation</th>\n",
       "      <th>trust</th>\n",
       "      <th>custom</th>\n",
       "      <th>change</th>\n",
       "      <th>order_detail</th>\n",
       "    </tr>\n",
       "  </thead>\n",
       "  <tbody>\n",
       "    <tr>\n",
       "      <th>0</th>\n",
       "      <td>10/19/2019 23:39:47</td>\n",
       "      <td>Mayores 40</td>\n",
       "      <td>Primario Completo</td>\n",
       "      <td>Comercio</td>\n",
       "      <td>2.0</td>\n",
       "      <td>Celular</td>\n",
       "      <td>Esta nuy buena la aplicacion.exelente!!</td>\n",
       "      <td>4.0</td>\n",
       "      <td>4.0</td>\n",
       "      <td>Si</td>\n",
       "      <td>5.0</td>\n",
       "      <td>No</td>\n",
       "      <td>3.0</td>\n",
       "      <td>No</td>\n",
       "      <td>Sí</td>\n",
       "      <td>5.0</td>\n",
       "      <td>Nada</td>\n",
       "      <td>Muy bien detallado.</td>\n",
       "    </tr>\n",
       "    <tr>\n",
       "      <th>1</th>\n",
       "      <td>10/20/2019 12:18:04</td>\n",
       "      <td>Entre 15 y 21 años</td>\n",
       "      <td>Secundario Incompleto</td>\n",
       "      <td>Tecnología</td>\n",
       "      <td>4.0</td>\n",
       "      <td>Celular</td>\n",
       "      <td>NaN</td>\n",
       "      <td>4.0</td>\n",
       "      <td>5.0</td>\n",
       "      <td>Si</td>\n",
       "      <td>5.0</td>\n",
       "      <td>No</td>\n",
       "      <td>3.0</td>\n",
       "      <td>No</td>\n",
       "      <td>Sí</td>\n",
       "      <td>5.0</td>\n",
       "      <td>NaN</td>\n",
       "      <td>NaN</td>\n",
       "    </tr>\n",
       "    <tr>\n",
       "      <th>2</th>\n",
       "      <td>10/20/2019 12:23:23</td>\n",
       "      <td>Entre 21 y 30 años</td>\n",
       "      <td>Universitario Incompleto</td>\n",
       "      <td>Matemáticas</td>\n",
       "      <td>4.0</td>\n",
       "      <td>Celular</td>\n",
       "      <td>N</td>\n",
       "      <td>4.0</td>\n",
       "      <td>5.0</td>\n",
       "      <td>Si</td>\n",
       "      <td>5.0</td>\n",
       "      <td>No</td>\n",
       "      <td>3.0</td>\n",
       "      <td>Si</td>\n",
       "      <td>Sí</td>\n",
       "      <td>5.0</td>\n",
       "      <td>Nada</td>\n",
       "      <td>Ok</td>\n",
       "    </tr>\n",
       "    <tr>\n",
       "      <th>3</th>\n",
       "      <td>10/20/2019 13:56:47</td>\n",
       "      <td>Entre 21 y 30 años</td>\n",
       "      <td>Universitario Incompleto</td>\n",
       "      <td>Matemáticas</td>\n",
       "      <td>4.0</td>\n",
       "      <td>Celular</td>\n",
       "      <td>Kcyo</td>\n",
       "      <td>3.0</td>\n",
       "      <td>5.0</td>\n",
       "      <td>Si</td>\n",
       "      <td>5.0</td>\n",
       "      <td>Si, copiense de pedidos ya(?</td>\n",
       "      <td>2.0</td>\n",
       "      <td>Si</td>\n",
       "      <td>Sí</td>\n",
       "      <td>4.0</td>\n",
       "      <td>Botones más cómodos e intuitivos para gente mayor</td>\n",
       "      <td>Bien</td>\n",
       "    </tr>\n",
       "  </tbody>\n",
       "</table>\n",
       "</div>"
      ],
      "text/plain": [
       "                  time                 age                 education  \\\n",
       "0  10/19/2019 23:39:47          Mayores 40         Primario Completo   \n",
       "1  10/20/2019 12:18:04  Entre 15 y 21 años     Secundario Incompleto   \n",
       "2  10/20/2019 12:23:23  Entre 21 y 30 años  Universitario Incompleto   \n",
       "3  10/20/2019 13:56:47  Entre 21 y 30 años  Universitario Incompleto   \n",
       "\n",
       "          area  app_use   device                               first_look  \\\n",
       "0     Comercio      2.0  Celular  Esta nuy buena la aplicacion.exelente!!   \n",
       "1   Tecnología      4.0  Celular                                      NaN   \n",
       "2  Matemáticas      4.0  Celular                                        N   \n",
       "3  Matemáticas      4.0  Celular                                     Kcyo   \n",
       "\n",
       "   easy_information  comprehensible colors  font  \\\n",
       "0               4.0             4.0     Si   5.0   \n",
       "1               4.0             5.0     Si   5.0   \n",
       "2               4.0             5.0     Si   5.0   \n",
       "3               3.0             5.0     Si   5.0   \n",
       "\n",
       "                        choices  navigation order_navigation trust  custom  \\\n",
       "0                            No         3.0               No    Sí     5.0   \n",
       "1                            No         3.0               No    Sí     5.0   \n",
       "2                            No         3.0               Si    Sí     5.0   \n",
       "3  Si, copiense de pedidos ya(?         2.0               Si    Sí     4.0   \n",
       "\n",
       "                                              change         order_detail  \n",
       "0                                               Nada  Muy bien detallado.  \n",
       "1                                                NaN                  NaN  \n",
       "2                                               Nada                   Ok  \n",
       "3  Botones más cómodos e intuitivos para gente mayor                 Bien  "
      ]
     },
     "execution_count": 4,
     "metadata": {},
     "output_type": "execute_result"
    }
   ],
   "source": [
    "df = pd.read_csv(\"data.csv\")\n",
    "df.head(4)"
   ]
  },
  {
   "cell_type": "code",
   "execution_count": 5,
   "metadata": {},
   "outputs": [
    {
     "data": {
      "text/plain": [
       "age\n",
       "Entre 15 y 21 años     8\n",
       "Entre 21 y 30 años    23\n",
       "Entre 30 y 40 años    25\n",
       "Mayores 40            23\n",
       "Name: age, dtype: int64"
      ]
     },
     "execution_count": 5,
     "metadata": {},
     "output_type": "execute_result"
    }
   ],
   "source": [
    "ages_group = df.groupby(\"age\")\n",
    "ages = ages_group[\"age\"].count()\n",
    "ages"
   ]
  },
  {
   "cell_type": "code",
   "execution_count": 6,
   "metadata": {},
   "outputs": [
    {
     "data": {
      "text/plain": [
       "<matplotlib.axes._subplots.AxesSubplot at 0x21325399808>"
      ]
     },
     "execution_count": 6,
     "metadata": {},
     "output_type": "execute_result"
    },
    {
     "data": {
      "image/png": "[encoded data removed]",
      "text/plain": [
       "<Figure size 432x288 with 1 Axes>"
      ]
     },
     "metadata": {
      "needs_background": "light"
     },
     "output_type": "display_data"
    }
   ],
   "source": [
    "ages.plot.bar()"
   ]
  },
  {
   "cell_type": "code",
   "execution_count": 75,
   "metadata": {},
   "outputs": [
    {
     "data": {
      "text/plain": [
       "<matplotlib.axes._subplots.AxesSubplot at 0x2132f1bfe88>"
      ]
     },
     "execution_count": 75,
     "metadata": {},
     "output_type": "execute_result"
    },
    {
     "data": {
      "image/png": "[encoded data removed]",
      "text/plain": [
       "<Figure size 432x288 with 1 Axes>"
      ]
     },
     "metadata": {
      "needs_background": "light"
     },
     "output_type": "display_data"
    }
   ],
   "source": [
    "age_edutacion_area = df[[\"age\", \"education\", \"area\"]].dropna()\n",
    "age_edutacion_area.plot(kind=\"scatter\",x=\"age\",y=\"education\")"
   ]
  },
  {
   "cell_type": "code",
   "execution_count": 60,
   "metadata": {},
   "outputs": [
    {
     "data": {
      "text/plain": [
       "<matplotlib.axes._subplots.AxesSubplot at 0x2132ec6f748>"
      ]
     },
     "execution_count": 60,
     "metadata": {},
     "output_type": "execute_result"
    },
    {
     "data": {
      "image/png": "[encoded data removed]",
      "text/plain": [
       "<Figure size 432x288 with 1 Axes>"
      ]
     },
     "metadata": {
      "needs_background": "light"
     },
     "output_type": "display_data"
    }
   ],
   "source": [
    "df[\"app_use\"].plot.density()"
   ]
  },
  {
   "cell_type": "code",
   "execution_count": 65,
   "metadata": {},
   "outputs": [
    {
     "data": {
      "text/plain": [
       "<matplotlib.axes._subplots.AxesSubplot at 0x2132ee8a3c8>"
      ]
     },
     "execution_count": 65,
     "metadata": {},
     "output_type": "execute_result"
    },
    {
     "data": {
      "image/png": "[encoded data removed]",
      "text/plain": [
       "<Figure size 432x288 with 1 Axes>"
      ]
     },
     "metadata": {
      "needs_background": "light"
     },
     "output_type": "display_data"
    }
   ],
   "source": [
    "df[\"easy_information\"].plot.density()"
   ]
  },
  {
   "cell_type": "code",
   "execution_count": 64,
   "metadata": {},
   "outputs": [
    {
     "data": {
      "text/plain": [
       "<matplotlib.axes._subplots.AxesSubplot at 0x2132ee1eb88>"
      ]
     },
     "execution_count": 64,
     "metadata": {},
     "output_type": "execute_result"
    },
    {
     "data": {
      "image/png": "[encoded data removed]",
      "text/plain": [
       "<Figure size 432x288 with 1 Axes>"
      ]
     },
     "metadata": {
      "needs_background": "light"
     },
     "output_type": "display_data"
    }
   ],
   "source": [
    "df[\"comprehensible\"].plot.density()"
   ]
  },
  {
   "cell_type": "code",
   "execution_count": 76,
   "metadata": {},
   "outputs": [
    {
     "data": {
      "text/plain": [
       "<matplotlib.axes._subplots.AxesSubplot at 0x2132d8f25c8>"
      ]
     },
     "execution_count": 76,
     "metadata": {},
     "output_type": "execute_result"
    },
    {
     "data": {
      "image/png": "[encoded data removed]",
      "text/plain": [
       "<Figure size 432x288 with 1 Axes>"
      ]
     },
     "metadata": {
      "needs_background": "light"
     },
     "output_type": "display_data"
    }
   ],
   "source": [
    "df.groupby(\"colors\").size().plot.bar()"
   ]
  },
  {
   "cell_type": "code",
   "execution_count": 77,
   "metadata": {},
   "outputs": [
    {
     "data": {
      "text/plain": [
       "<matplotlib.axes._subplots.AxesSubplot at 0x2132c8a07c8>"
      ]
     },
     "execution_count": 77,
     "metadata": {},
     "output_type": "execute_result"
    },
    {
     "data": {
      "image/png": "[encoded data removed]",
      "text/plain": [
       "<Figure size 432x288 with 1 Axes>"
      ]
     },
     "metadata": {
      "needs_background": "light"
     },
     "output_type": "display_data"
    }
   ],
   "source": [
    "df[\"font\"].plot.density()"
   ]
  },
  {
   "cell_type": "code",
   "execution_count": 78,
   "metadata": {},
   "outputs": [
    {
     "data": {
      "text/plain": [
       "<matplotlib.axes._subplots.AxesSubplot at 0x2132c9f7dc8>"
      ]
     },
     "execution_count": 78,
     "metadata": {},
     "output_type": "execute_result"
    },
    {
     "data": {
      "image/png": "[encoded data removed]",
      "text/plain": [
       "<Figure size 432x288 with 1 Axes>"
      ]
     },
     "metadata": {
      "needs_background": "light"
     },
     "output_type": "display_data"
    }
   ],
   "source": [
    "df[\"navigation\"].plot.density()"
   ]
  },
  {
   "cell_type": "code",
   "execution_count": 79,
   "metadata": {},
   "outputs": [
    {
     "data": {
      "text/plain": [
       "<matplotlib.axes._subplots.AxesSubplot at 0x2132c8d1088>"
      ]
     },
     "execution_count": 79,
     "metadata": {},
     "output_type": "execute_result"
    },
    {
     "data": {
      "image/png": "[encoded data removed]",
      "text/plain": [
       "<Figure size 432x288 with 1 Axes>"
      ]
     },
     "metadata": {
      "needs_background": "light"
     },
     "output_type": "display_data"
    }
   ],
   "source": [
    "df.groupby(\"order_navigation\").size().plot.bar()"
   ]
  },
  {
   "cell_type": "code",
   "execution_count": 87,
   "metadata": {},
   "outputs": [
    {
     "data": {
      "text/html": [
       "<div>\n",
       "<style scoped>\n",
       "    .dataframe tbody tr th:only-of-type {\n",
       "        vertical-align: middle;\n",
       "    }\n",
       "\n",
       "    .dataframe tbody tr th {\n",
       "        vertical-align: top;\n",
       "    }\n",
       "\n",
       "    .dataframe thead tr th {\n",
       "        text-align: left;\n",
       "    }\n",
       "\n",
       "    .dataframe thead tr:last-of-type th {\n",
       "        text-align: right;\n",
       "    }\n",
       "</style>\n",
       "<table border=\"1\" class=\"dataframe\">\n",
       "  <thead>\n",
       "    <tr>\n",
       "      <th></th>\n",
       "      <th colspan=\"8\" halign=\"left\">app_use</th>\n",
       "      <th colspan=\"2\" halign=\"left\">easy_information</th>\n",
       "      <th>...</th>\n",
       "      <th colspan=\"2\" halign=\"left\">navigation</th>\n",
       "      <th colspan=\"8\" halign=\"left\">custom</th>\n",
       "    </tr>\n",
       "    <tr>\n",
       "      <th></th>\n",
       "      <th>count</th>\n",
       "      <th>mean</th>\n",
       "      <th>std</th>\n",
       "      <th>min</th>\n",
       "      <th>25%</th>\n",
       "      <th>50%</th>\n",
       "      <th>75%</th>\n",
       "      <th>max</th>\n",
       "      <th>count</th>\n",
       "      <th>mean</th>\n",
       "      <th>...</th>\n",
       "      <th>75%</th>\n",
       "      <th>max</th>\n",
       "      <th>count</th>\n",
       "      <th>mean</th>\n",
       "      <th>std</th>\n",
       "      <th>min</th>\n",
       "      <th>25%</th>\n",
       "      <th>50%</th>\n",
       "      <th>75%</th>\n",
       "      <th>max</th>\n",
       "    </tr>\n",
       "    <tr>\n",
       "      <th>trust</th>\n",
       "      <th></th>\n",
       "      <th></th>\n",
       "      <th></th>\n",
       "      <th></th>\n",
       "      <th></th>\n",
       "      <th></th>\n",
       "      <th></th>\n",
       "      <th></th>\n",
       "      <th></th>\n",
       "      <th></th>\n",
       "      <th></th>\n",
       "      <th></th>\n",
       "      <th></th>\n",
       "      <th></th>\n",
       "      <th></th>\n",
       "      <th></th>\n",
       "      <th></th>\n",
       "      <th></th>\n",
       "      <th></th>\n",
       "      <th></th>\n",
       "      <th></th>\n",
       "    </tr>\n",
       "  </thead>\n",
       "  <tbody>\n",
       "    <tr>\n",
       "      <th>No</th>\n",
       "      <td>2.0</td>\n",
       "      <td>1.500000</td>\n",
       "      <td>0.707107</td>\n",
       "      <td>1.0</td>\n",
       "      <td>1.25</td>\n",
       "      <td>1.5</td>\n",
       "      <td>1.75</td>\n",
       "      <td>2.0</td>\n",
       "      <td>2.0</td>\n",
       "      <td>3.500000</td>\n",
       "      <td>...</td>\n",
       "      <td>2.75</td>\n",
       "      <td>3.0</td>\n",
       "      <td>2.0</td>\n",
       "      <td>4.500000</td>\n",
       "      <td>0.707107</td>\n",
       "      <td>4.0</td>\n",
       "      <td>4.25</td>\n",
       "      <td>4.5</td>\n",
       "      <td>4.75</td>\n",
       "      <td>5.0</td>\n",
       "    </tr>\n",
       "    <tr>\n",
       "      <th>No sabe</th>\n",
       "      <td>7.0</td>\n",
       "      <td>2.571429</td>\n",
       "      <td>1.133893</td>\n",
       "      <td>1.0</td>\n",
       "      <td>2.00</td>\n",
       "      <td>3.0</td>\n",
       "      <td>3.00</td>\n",
       "      <td>4.0</td>\n",
       "      <td>8.0</td>\n",
       "      <td>3.250000</td>\n",
       "      <td>...</td>\n",
       "      <td>3.00</td>\n",
       "      <td>3.0</td>\n",
       "      <td>8.0</td>\n",
       "      <td>4.000000</td>\n",
       "      <td>0.925820</td>\n",
       "      <td>3.0</td>\n",
       "      <td>3.00</td>\n",
       "      <td>4.0</td>\n",
       "      <td>5.00</td>\n",
       "      <td>5.0</td>\n",
       "    </tr>\n",
       "    <tr>\n",
       "      <th>Si pero no tenés una instancia para hacer comentarios si querés cambiar algo particular del pedido, ej: que la hamburguesa no tenga cebolla</th>\n",
       "      <td>1.0</td>\n",
       "      <td>1.000000</td>\n",
       "      <td>NaN</td>\n",
       "      <td>1.0</td>\n",
       "      <td>1.00</td>\n",
       "      <td>1.0</td>\n",
       "      <td>1.00</td>\n",
       "      <td>1.0</td>\n",
       "      <td>1.0</td>\n",
       "      <td>4.000000</td>\n",
       "      <td>...</td>\n",
       "      <td>2.00</td>\n",
       "      <td>2.0</td>\n",
       "      <td>1.0</td>\n",
       "      <td>4.000000</td>\n",
       "      <td>NaN</td>\n",
       "      <td>4.0</td>\n",
       "      <td>4.00</td>\n",
       "      <td>4.0</td>\n",
       "      <td>4.00</td>\n",
       "      <td>4.0</td>\n",
       "    </tr>\n",
       "    <tr>\n",
       "      <th>Sí</th>\n",
       "      <td>68.0</td>\n",
       "      <td>3.500000</td>\n",
       "      <td>0.855186</td>\n",
       "      <td>1.0</td>\n",
       "      <td>3.00</td>\n",
       "      <td>4.0</td>\n",
       "      <td>4.00</td>\n",
       "      <td>4.0</td>\n",
       "      <td>67.0</td>\n",
       "      <td>3.776119</td>\n",
       "      <td>...</td>\n",
       "      <td>3.00</td>\n",
       "      <td>3.0</td>\n",
       "      <td>68.0</td>\n",
       "      <td>4.397059</td>\n",
       "      <td>0.866279</td>\n",
       "      <td>1.0</td>\n",
       "      <td>4.00</td>\n",
       "      <td>5.0</td>\n",
       "      <td>5.00</td>\n",
       "      <td>5.0</td>\n",
       "    </tr>\n",
       "  </tbody>\n",
       "</table>\n",
       "<p>4 rows × 48 columns</p>\n",
       "</div>"
      ],
      "text/plain": [
       "                                                   app_use            \\\n",
       "                                                     count      mean   \n",
       "trust                                                                  \n",
       "No                                                     2.0  1.500000   \n",
       "No sabe                                                7.0  2.571429   \n",
       "Si pero no tenés una instancia para hacer comen...     1.0  1.000000   \n",
       "Sí                                                    68.0  3.500000   \n",
       "\n",
       "                                                                              \\\n",
       "                                                         std  min   25%  50%   \n",
       "trust                                                                          \n",
       "No                                                  0.707107  1.0  1.25  1.5   \n",
       "No sabe                                             1.133893  1.0  2.00  3.0   \n",
       "Si pero no tenés una instancia para hacer comen...       NaN  1.0  1.00  1.0   \n",
       "Sí                                                  0.855186  1.0  3.00  4.0   \n",
       "\n",
       "                                                               \\\n",
       "                                                     75%  max   \n",
       "trust                                                           \n",
       "No                                                  1.75  2.0   \n",
       "No sabe                                             3.00  4.0   \n",
       "Si pero no tenés una instancia para hacer comen...  1.00  1.0   \n",
       "Sí                                                  4.00  4.0   \n",
       "\n",
       "                                                   easy_information            \\\n",
       "                                                              count      mean   \n",
       "trust                                                                           \n",
       "No                                                              2.0  3.500000   \n",
       "No sabe                                                         8.0  3.250000   \n",
       "Si pero no tenés una instancia para hacer comen...              1.0  4.000000   \n",
       "Sí                                                             67.0  3.776119   \n",
       "\n",
       "                                                    ... navigation       \\\n",
       "                                                    ...        75%  max   \n",
       "trust                                               ...                   \n",
       "No                                                  ...       2.75  3.0   \n",
       "No sabe                                             ...       3.00  3.0   \n",
       "Si pero no tenés una instancia para hacer comen...  ...       2.00  2.0   \n",
       "Sí                                                  ...       3.00  3.0   \n",
       "\n",
       "                                                   custom                      \\\n",
       "                                                    count      mean       std   \n",
       "trust                                                                           \n",
       "No                                                    2.0  4.500000  0.707107   \n",
       "No sabe                                               8.0  4.000000  0.925820   \n",
       "Si pero no tenés una instancia para hacer comen...    1.0  4.000000       NaN   \n",
       "Sí                                                   68.0  4.397059  0.866279   \n",
       "\n",
       "                                                                               \n",
       "                                                    min   25%  50%   75%  max  \n",
       "trust                                                                          \n",
       "No                                                  4.0  4.25  4.5  4.75  5.0  \n",
       "No sabe                                             3.0  3.00  4.0  5.00  5.0  \n",
       "Si pero no tenés una instancia para hacer comen...  4.0  4.00  4.0  4.00  4.0  \n",
       "Sí                                                  1.0  4.00  5.0  5.00  5.0  \n",
       "\n",
       "[4 rows x 48 columns]"
      ]
     },
     "execution_count": 87,
     "metadata": {},
     "output_type": "execute_result"
    }
   ],
   "source": [
    "df.groupby(\"trust\").describe()"
   ]
  },
  {
   "cell_type": "code",
   "execution_count": 81,
   "metadata": {},
   "outputs": [
    {
     "data": {
      "text/plain": [
       "<matplotlib.axes._subplots.AxesSubplot at 0x2132f302d88>"
      ]
     },
     "execution_count": 81,
     "metadata": {},
     "output_type": "execute_result"
    },
    {
     "data": {
      "image/png": "[encoded data removed]",
      "text/plain": [
       "<Figure size 432x288 with 1 Axes>"
      ]
     },
     "metadata": {
      "needs_background": "light"
     },
     "output_type": "display_data"
    }
   ],
   "source": [
    "df[\"custom\"].plot.density()"
   ]
  }
 ],
 "metadata": {
  "kernelspec": {
   "display_name": "Python 3",
   "language": "python",
   "name": "python3"
  },
  "language_info": {
   "codemirror_mode": {
    "name": "ipython",
    "version": 3
   },
   "file_extension": ".py",
   "mimetype": "text/x-python",
   "name": "python",
   "nbconvert_exporter": "python",
   "pygments_lexer": "ipython3",
   "version": "3.7.6"
  }
 },
 "nbformat": 4,
 "nbformat_minor": 4
}
