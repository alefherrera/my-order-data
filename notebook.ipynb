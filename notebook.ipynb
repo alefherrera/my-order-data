{
 "cells": [
  {
   "cell_type": "code",
   "execution_count": 2,
   "metadata": {},
   "outputs": [],
   "source": [
    "import pandas as pd"
   ]
  },
  {
   "cell_type": "code",
   "execution_count": 3,
   "metadata": {},
   "outputs": [],
   "source": [
    "import numpy as np"
   ]
  },
  {
   "cell_type": "code",
   "execution_count": 4,
   "metadata": {},
   "outputs": [],
   "source": [
    "import matplotlib.pyplot as plt\n",
    "plt.close('all')"
   ]
  },
  {
   "cell_type": "code",
   "execution_count": 5,
   "metadata": {},
   "outputs": [
    {
     "data": {
      "text/html": [
       "<div>\n",
       "<style scoped>\n",
       "    .dataframe tbody tr th:only-of-type {\n",
       "        vertical-align: middle;\n",
       "    }\n",
       "\n",
       "    .dataframe tbody tr th {\n",
       "        vertical-align: top;\n",
       "    }\n",
       "\n",
       "    .dataframe thead th {\n",
       "        text-align: right;\n",
       "    }\n",
       "</style>\n",
       "<table border=\"1\" class=\"dataframe\">\n",
       "  <thead>\n",
       "    <tr style=\"text-align: right;\">\n",
       "      <th></th>\n",
       "      <th>time</th>\n",
       "      <th>age</th>\n",
       "      <th>education</th>\n",
       "      <th>area</th>\n",
       "      <th>app_use</th>\n",
       "      <th>device</th>\n",
       "      <th>first_look</th>\n",
       "      <th>easy_information</th>\n",
       "      <th>comprehensible</th>\n",
       "      <th>colors</th>\n",
       "      <th>font</th>\n",
       "      <th>choices</th>\n",
       "      <th>navigation</th>\n",
       "      <th>order_navigation</th>\n",
       "      <th>trust</th>\n",
       "      <th>custom</th>\n",
       "      <th>change</th>\n",
       "      <th>order_detail</th>\n",
       "    </tr>\n",
       "  </thead>\n",
       "  <tbody>\n",
       "    <tr>\n",
       "      <th>0</th>\n",
       "      <td>10/19/2019 23:39:47</td>\n",
       "      <td>Mayores 40</td>\n",
       "      <td>Primario Completo</td>\n",
       "      <td>Comercio</td>\n",
       "      <td>2.0</td>\n",
       "      <td>Celular</td>\n",
       "      <td>Esta nuy buena la aplicacion.exelente!!</td>\n",
       "      <td>4.0</td>\n",
       "      <td>4.0</td>\n",
       "      <td>Si</td>\n",
       "      <td>5.0</td>\n",
       "      <td>No</td>\n",
       "      <td>3.0</td>\n",
       "      <td>No</td>\n",
       "      <td>Sí</td>\n",
       "      <td>5.0</td>\n",
       "      <td>Nada</td>\n",
       "      <td>Muy bien detallado.</td>\n",
       "    </tr>\n",
       "    <tr>\n",
       "      <th>1</th>\n",
       "      <td>10/20/2019 12:18:04</td>\n",
       "      <td>Entre 15 y 21 años</td>\n",
       "      <td>Secundario Incompleto</td>\n",
       "      <td>Tecnología</td>\n",
       "      <td>4.0</td>\n",
       "      <td>Celular</td>\n",
       "      <td>NaN</td>\n",
       "      <td>4.0</td>\n",
       "      <td>5.0</td>\n",
       "      <td>Si</td>\n",
       "      <td>5.0</td>\n",
       "      <td>No</td>\n",
       "      <td>3.0</td>\n",
       "      <td>No</td>\n",
       "      <td>Sí</td>\n",
       "      <td>5.0</td>\n",
       "      <td>NaN</td>\n",
       "      <td>NaN</td>\n",
       "    </tr>\n",
       "    <tr>\n",
       "      <th>2</th>\n",
       "      <td>10/20/2019 12:23:23</td>\n",
       "      <td>Entre 21 y 30 años</td>\n",
       "      <td>Universitario Incompleto</td>\n",
       "      <td>Matemáticas</td>\n",
       "      <td>4.0</td>\n",
       "      <td>Celular</td>\n",
       "      <td>N</td>\n",
       "      <td>4.0</td>\n",
       "      <td>5.0</td>\n",
       "      <td>Si</td>\n",
       "      <td>5.0</td>\n",
       "      <td>No</td>\n",
       "      <td>3.0</td>\n",
       "      <td>Si</td>\n",
       "      <td>Sí</td>\n",
       "      <td>5.0</td>\n",
       "      <td>Nada</td>\n",
       "      <td>Ok</td>\n",
       "    </tr>\n",
       "    <tr>\n",
       "      <th>3</th>\n",
       "      <td>10/20/2019 13:56:47</td>\n",
       "      <td>Entre 21 y 30 años</td>\n",
       "      <td>Universitario Incompleto</td>\n",
       "      <td>Matemáticas</td>\n",
       "      <td>4.0</td>\n",
       "      <td>Celular</td>\n",
       "      <td>Kcyo</td>\n",
       "      <td>3.0</td>\n",
       "      <td>5.0</td>\n",
       "      <td>Si</td>\n",
       "      <td>5.0</td>\n",
       "      <td>Si, copiense de pedidos ya(?</td>\n",
       "      <td>2.0</td>\n",
       "      <td>Si</td>\n",
       "      <td>Sí</td>\n",
       "      <td>4.0</td>\n",
       "      <td>Botones más cómodos e intuitivos para gente mayor</td>\n",
       "      <td>Bien</td>\n",
       "    </tr>\n",
       "  </tbody>\n",
       "</table>\n",
       "</div>"
      ],
      "text/plain": [
       "                  time                 age                 education  \\\n",
       "0  10/19/2019 23:39:47          Mayores 40         Primario Completo   \n",
       "1  10/20/2019 12:18:04  Entre 15 y 21 años     Secundario Incompleto   \n",
       "2  10/20/2019 12:23:23  Entre 21 y 30 años  Universitario Incompleto   \n",
       "3  10/20/2019 13:56:47  Entre 21 y 30 años  Universitario Incompleto   \n",
       "\n",
       "          area  app_use   device                               first_look  \\\n",
       "0     Comercio      2.0  Celular  Esta nuy buena la aplicacion.exelente!!   \n",
       "1   Tecnología      4.0  Celular                                      NaN   \n",
       "2  Matemáticas      4.0  Celular                                        N   \n",
       "3  Matemáticas      4.0  Celular                                     Kcyo   \n",
       "\n",
       "   easy_information  comprehensible colors  font  \\\n",
       "0               4.0             4.0     Si   5.0   \n",
       "1               4.0             5.0     Si   5.0   \n",
       "2               4.0             5.0     Si   5.0   \n",
       "3               3.0             5.0     Si   5.0   \n",
       "\n",
       "                        choices  navigation order_navigation trust  custom  \\\n",
       "0                            No         3.0               No    Sí     5.0   \n",
       "1                            No         3.0               No    Sí     5.0   \n",
       "2                            No         3.0               Si    Sí     5.0   \n",
       "3  Si, copiense de pedidos ya(?         2.0               Si    Sí     4.0   \n",
       "\n",
       "                                              change         order_detail  \n",
       "0                                               Nada  Muy bien detallado.  \n",
       "1                                                NaN                  NaN  \n",
       "2                                               Nada                   Ok  \n",
       "3  Botones más cómodos e intuitivos para gente mayor                 Bien  "
      ]
     },
     "execution_count": 5,
     "metadata": {},
     "output_type": "execute_result"
    }
   ],
   "source": [
    "df = pd.read_csv(\"data.csv\")\n",
    "df.head(4)"
   ]
  },
  {
   "cell_type": "code",
   "execution_count": 8,
   "metadata": {},
   "outputs": [
    {
     "data": {
      "text/plain": [
       "age\n",
       "Entre 15 y 21 años     8\n",
       "Entre 21 y 30 años    23\n",
       "Entre 30 y 40 años    25\n",
       "Mayores 40            23\n",
       "Name: age, dtype: int64"
      ]
     },
     "execution_count": 8,
     "metadata": {},
     "output_type": "execute_result"
    }
   ],
   "source": [
    "ages_group = df.groupby(\"age\")\n",
    "ages = ages_group[\"age\"].count()\n",
    "ages"
   ]
  },
  {
   "cell_type": "code",
   "execution_count": 9,
   "metadata": {},
   "outputs": [
    {
     "data": {
      "text/plain": [
       "<matplotlib.axes._subplots.AxesSubplot at 0x2b0549b8d48>"
      ]
     },
     "execution_count": 9,
     "metadata": {},
     "output_type": "execute_result"
    },
    {
     "data": {
      "image/png": "[encoded data removed]",
      "text/plain": [
       "<Figure size 432x288 with 1 Axes>"
      ]
     },
     "metadata": {
      "needs_background": "light"
     },
     "output_type": "display_data"
    }
   ],
   "source": [
    "ages.plot.bar()"
   ]
  },
  {
   "cell_type": "code",
   "execution_count": 22,
   "metadata": {},
   "outputs": [
    {
     "data": {
      "text/html": [
       "<div>\n",
       "<style scoped>\n",
       "    .dataframe tbody tr th:only-of-type {\n",
       "        vertical-align: middle;\n",
       "    }\n",
       "\n",
       "    .dataframe tbody tr th {\n",
       "        vertical-align: top;\n",
       "    }\n",
       "\n",
       "    .dataframe thead th {\n",
       "        text-align: right;\n",
       "    }\n",
       "</style>\n",
       "<table border=\"1\" class=\"dataframe\">\n",
       "  <thead>\n",
       "    <tr style=\"text-align: right;\">\n",
       "      <th></th>\n",
       "      <th>age</th>\n",
       "      <th>area</th>\n",
       "    </tr>\n",
       "    <tr>\n",
       "      <th>education</th>\n",
       "      <th></th>\n",
       "      <th></th>\n",
       "    </tr>\n",
       "  </thead>\n",
       "  <tbody>\n",
       "    <tr>\n",
       "      <th>Ninguno</th>\n",
       "      <td>Mayores 40</td>\n",
       "      <td>Docencia</td>\n",
       "    </tr>\n",
       "    <tr>\n",
       "      <th>Posgrado (Maestría, Doctorado, etc.)</th>\n",
       "      <td>Entre 30 y 40 añosMayores 40Mayores 40Entre 30...</td>\n",
       "      <td>AdministrativoSaludJudicialSaludArte</td>\n",
       "    </tr>\n",
       "    <tr>\n",
       "      <th>Primario Completo</th>\n",
       "      <td>Mayores 40Mayores 40</td>\n",
       "      <td>ComercioMatemáticas</td>\n",
       "    </tr>\n",
       "    <tr>\n",
       "      <th>Secundario Completo</th>\n",
       "      <td>Entre 21 y 30 añosEntre 15 y 21 añosEntre 30 y...</td>\n",
       "      <td>ArteTecnologíaArteMatemáticasArteCienciaArteSa...</td>\n",
       "    </tr>\n",
       "    <tr>\n",
       "      <th>Secundario Incompleto</th>\n",
       "      <td>Entre 15 y 21 añosEntre 21 y 30 añosEntre 15 y...</td>\n",
       "      <td>TecnologíaTecnologíaMatemáticasGastronomíaMant...</td>\n",
       "    </tr>\n",
       "    <tr>\n",
       "      <th>Universitario Completo</th>\n",
       "      <td>Entre 30 y 40 añosEntre 30 y 40 añosEntre 30 y...</td>\n",
       "      <td>IdiomasLenguasMatemáticasSaludTecnologíaTecnol...</td>\n",
       "    </tr>\n",
       "    <tr>\n",
       "      <th>Universitario Incompleto</th>\n",
       "      <td>Entre 21 y 30 añosEntre 21 y 30 añosEntre 21 y...</td>\n",
       "      <td>MatemáticasMatemáticasArteTecnologíaArteTecnol...</td>\n",
       "    </tr>\n",
       "  </tbody>\n",
       "</table>\n",
       "</div>"
      ],
      "text/plain": [
       "                                                                                    age  \\\n",
       "education                                                                                 \n",
       "Ninguno                                                                      Mayores 40   \n",
       "Posgrado (Maestría, Doctorado, etc.)  Entre 30 y 40 añosMayores 40Mayores 40Entre 30...   \n",
       "Primario Completo                                                  Mayores 40Mayores 40   \n",
       "Secundario Completo                   Entre 21 y 30 añosEntre 15 y 21 añosEntre 30 y...   \n",
       "Secundario Incompleto                 Entre 15 y 21 añosEntre 21 y 30 añosEntre 15 y...   \n",
       "Universitario Completo                Entre 30 y 40 añosEntre 30 y 40 añosEntre 30 y...   \n",
       "Universitario Incompleto              Entre 21 y 30 añosEntre 21 y 30 añosEntre 21 y...   \n",
       "\n",
       "                                                                                   area  \n",
       "education                                                                                \n",
       "Ninguno                                                                        Docencia  \n",
       "Posgrado (Maestría, Doctorado, etc.)               AdministrativoSaludJudicialSaludArte  \n",
       "Primario Completo                                                   ComercioMatemáticas  \n",
       "Secundario Completo                   ArteTecnologíaArteMatemáticasArteCienciaArteSa...  \n",
       "Secundario Incompleto                 TecnologíaTecnologíaMatemáticasGastronomíaMant...  \n",
       "Universitario Completo                IdiomasLenguasMatemáticasSaludTecnologíaTecnol...  \n",
       "Universitario Incompleto              MatemáticasMatemáticasArteTecnologíaArteTecnol...  "
      ]
     },
     "execution_count": 22,
     "metadata": {},
     "output_type": "execute_result"
    }
   ],
   "source": [
    "age_edutacion_area = df[[\"age\", \"education\", \"area\"]].groupby(\"education\").sum()\n",
    "age_edutacion_area"
   ]
  }
 ],
 "metadata": {
  "kernelspec": {
   "display_name": "Python 3",
   "language": "python",
   "name": "python3"
  },
  "language_info": {
   "codemirror_mode": {
    "name": "ipython",
    "version": 3
   },
   "file_extension": ".py",
   "mimetype": "text/x-python",
   "name": "python",
   "nbconvert_exporter": "python",
   "pygments_lexer": "ipython3",
   "version": "3.7.6"
  }
 },
 "nbformat": 4,
 "nbformat_minor": 4
}
